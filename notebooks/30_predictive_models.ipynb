{
 "cells": [
  {
   "cell_type": "code",
   "execution_count": 46,
   "metadata": {},
   "outputs": [],
   "source": [
    "%reload_ext autoreload\n",
    "%autoreload 2\n",
    "\n",
    "import pathlib\n",
    "from lifelines import CoxPHFitter\n",
    "from lifelines.statistics import multivariate_logrank_test\n",
    "import pandas as pd\n",
    "from sksurv.ensemble import RandomSurvivalForest\n",
    "from sksurv.preprocessing import OneHotEncoder\n",
    "from sklearn.preprocessing import OrdinalEncoder\n",
    "import numpy as np\n",
    "from typing import List\n",
    "\n",
    "from tcga_brca_clinical import conf, io\n",
    "import warnings\n",
    "warnings.filterwarnings('ignore')\n",
    "\n"
   ]
  },
  {
   "cell_type": "code",
   "execution_count": 2,
   "metadata": {},
   "outputs": [],
   "source": [
    "data = io.read_data(pathlib.Path(\"../data\").joinpath(conf.PREPROCESSED_FILENAME))\n",
    "data = data.sample(frac=1, random_state=0).reset_index(drop=True)\n",
    "train_proportion = 0.8\n",
    "cut = int(len(data)*train_proportion)\n",
    "\n",
    "train_data = data[:cut]\n",
    "test_data = data[cut:]\n",
    "\n",
    "assert len(train_data) + len(test_data) == len(data)"
   ]
  },
  {
   "cell_type": "markdown",
   "metadata": {},
   "source": [
    "## Feature selection\n",
    "\n",
    "Let's pick some promising variables, run a Cox regression and analyse their concordance index, and finally picking the 3 largest."
   ]
  },
  {
   "cell_type": "code",
   "execution_count": 3,
   "metadata": {},
   "outputs": [
    {
     "data": {
      "text/html": [
       "<div>\n",
       "<style scoped>\n",
       "    .dataframe tbody tr th:only-of-type {\n",
       "        vertical-align: middle;\n",
       "    }\n",
       "\n",
       "    .dataframe tbody tr th {\n",
       "        vertical-align: top;\n",
       "    }\n",
       "\n",
       "    .dataframe thead th {\n",
       "        text-align: right;\n",
       "    }\n",
       "</style>\n",
       "<table border=\"1\" class=\"dataframe\">\n",
       "  <thead>\n",
       "    <tr style=\"text-align: right;\">\n",
       "      <th></th>\n",
       "      <th>feature</th>\n",
       "      <th>concordance_index</th>\n",
       "    </tr>\n",
       "  </thead>\n",
       "  <tbody>\n",
       "    <tr>\n",
       "      <th>4</th>\n",
       "      <td>ajcc_pathologic_stage</td>\n",
       "      <td>0.694512</td>\n",
       "    </tr>\n",
       "    <tr>\n",
       "      <th>1</th>\n",
       "      <td>treatment</td>\n",
       "      <td>0.639897</td>\n",
       "    </tr>\n",
       "    <tr>\n",
       "      <th>0</th>\n",
       "      <td>age_at_diagnosis_binned</td>\n",
       "      <td>0.639693</td>\n",
       "    </tr>\n",
       "    <tr>\n",
       "      <th>3</th>\n",
       "      <td>ajcc_pathologic_m</td>\n",
       "      <td>0.554623</td>\n",
       "    </tr>\n",
       "    <tr>\n",
       "      <th>2</th>\n",
       "      <td>race</td>\n",
       "      <td>0.514185</td>\n",
       "    </tr>\n",
       "  </tbody>\n",
       "</table>\n",
       "</div>"
      ],
      "text/plain": [
       "                   feature  concordance_index\n",
       "4    ajcc_pathologic_stage           0.694512\n",
       "1                treatment           0.639897\n",
       "0  age_at_diagnosis_binned           0.639693\n",
       "3        ajcc_pathologic_m           0.554623\n",
       "2                     race           0.514185"
      ]
     },
     "execution_count": 3,
     "metadata": {},
     "output_type": "execute_result"
    }
   ],
   "source": [
    "features_ref = [\n",
    "    \"age_at_diagnosis_binned\",\n",
    "    \"treatment\",\n",
    "    \"race\",\n",
    "    \"ajcc_pathologic_m\",\n",
    "    \"ajcc_pathologic_stage\",\n",
    "]\n",
    "\n",
    "concordance_index = {}\n",
    "\n",
    "for feature in features_ref:\n",
    "    data_to_fit = data[[feature] + [\"survival_days\", \"observed_death\"]]\n",
    "    cph = CoxPHFitter()\n",
    "    cph.fit(data_to_fit, duration_col=\"survival_days\", event_col=\"observed_death\", formula=feature)\n",
    "    concordance_index[feature] = cph.concordance_index_\n",
    "\n",
    "concordance_index = pd.DataFrame(list(concordance_index.items()), columns = [\"feature\", \"concordance_index\"]).sort_values(by=\"concordance_index\", ascending=False)\n",
    "concordance_index"
   ]
  },
  {
   "cell_type": "code",
   "execution_count": 13,
   "metadata": {},
   "outputs": [],
   "source": [
    "# features = concordance_index.nlargest(n=3, columns=\"concordance_index\")[\"feature\"].tolist()\n",
    "features = [\"ajcc_pathologic_stage\", \"treatment\", \"age_at_diagnosis_binned\"]"
   ]
  },
  {
   "cell_type": "markdown",
   "metadata": {},
   "source": [
    "## Cox regression model"
   ]
  },
  {
   "cell_type": "code",
   "execution_count": 53,
   "metadata": {},
   "outputs": [
    {
     "data": {
      "text/plain": [
       "0.8058759913482336"
      ]
     },
     "execution_count": 53,
     "metadata": {},
     "output_type": "execute_result"
    }
   ],
   "source": [
    "cph = CoxPHFitter()\n",
    "cph_train = train_data[features + [\"survival_days\", \"observed_death\"]]\n",
    "cph_test = test_data[features + [\"survival_days\", \"observed_death\"]]\n",
    "\n",
    "cph.fit(\n",
    "    cph_train,\n",
    "    duration_col=\"survival_days\",\n",
    "    event_col=\"observed_death\",\n",
    "    formula=\"+\".join(features),\n",
    "    show_progress=False,\n",
    "    step_size=0.2\n",
    ")"
   ]
  },
  {
   "cell_type": "code",
   "execution_count": null,
   "metadata": {},
   "outputs": [],
   "source": [
    "def categorize_features(data: pd.DataFrame) -> pd.DataFrame:\n",
    "    cat_columns = data.select_dtypes(exclude=\"number\").columns\n",
    "    data_categorized = data.copy()\n",
    "    data_categorized[cat_columns] = data[cat_columns].astype(dtype=\"category\")\n",
    "    return data_categorized\n",
    "\n",
    "data_prep = categorize_features(data_prep)"
   ]
  },
  {
   "cell_type": "markdown",
   "metadata": {},
   "source": [
    "## Random Survival Forest"
   ]
  },
  {
   "cell_type": "code",
   "execution_count": 49,
   "metadata": {},
   "outputs": [
    {
     "data": {
      "text/plain": [
       "0.772170151405912"
      ]
     },
     "execution_count": 49,
     "metadata": {},
     "output_type": "execute_result"
    }
   ],
   "source": [
    "def make_y_rsf(data: pd.DataFrame) -> np.ndarray:\n",
    "    y_rsf = data[[\"observed_death\", \"survival_days\"]]\n",
    "    y_rsf[\"observed_death\"] = y_rsf[\"observed_death\"].astype(bool)\n",
    "    y_rsf = y_rsf.to_records(index=False)\n",
    "    return y_rsf\n",
    "\n",
    "def make_X_rsf(data: pd.DataFrame, features: List[str]) -> pd.DataFrame:\n",
    "    X_rsf = data[features]\n",
    "    X_rsf = OneHotEncoder().fit_transform(X_rsf)\n",
    "    return X_rsf\n",
    "\n",
    "\n",
    "X_train = make_X_rsf(train_data, features)\n",
    "X_test = make_X_rsf(test_data, features)\n",
    "\n",
    "y_train = make_y_rsf(train_data)\n",
    "y_test =  make_y_rsf(test_data)\n",
    "\n",
    "\n",
    "\n",
    "rsf = RandomSurvivalForest(\n",
    "    n_estimators=1000,\n",
    "    min_samples_split=10,\n",
    "    min_samples_leaf=15,\n",
    "    max_features=\"sqrt\",\n",
    "    n_jobs=-1,\n",
    "    random_state=conf.RANDOM_STATE,\n",
    ")\n",
    "rsf.fit(X_train, y_train)\n"
   ]
  },
  {
   "cell_type": "markdown",
   "metadata": {},
   "source": [
    "## Evaluation"
   ]
  },
  {
   "cell_type": "code",
   "execution_count": 56,
   "metadata": {},
   "outputs": [
    {
     "name": "stdout",
     "output_type": "stream",
     "text": [
      "concordance index for model (Cox’s proportional hazard model): 0.8058759913482336\n",
      "concordance index for model (Random Survival Forest): 0.772170151405912\n"
     ]
    }
   ],
   "source": [
    "def print_score(model: str, method: str, score: float):\n",
    "    print(f\"{method} for model ({model}): {score}\")\n",
    "\n",
    "print_score(\"Cox’s proportional hazard model\", \"concordance index\", cph.score(cph_test, scoring_method=\"concordance_index\"))\n",
    "print_score(\"Random Survival Forest\", \"concordance index\", rsf.score(X_test, y_test))"
   ]
  }
 ],
 "metadata": {
  "interpreter": {
   "hash": "6c07193f9a40510864a4e4defaa4d396737da439810e962541685a23935da1be"
  },
  "kernelspec": {
   "display_name": "Python 3.10.0 64-bit ('inria': pyenv)",
   "language": "python",
   "name": "python3"
  },
  "language_info": {
   "codemirror_mode": {
    "name": "ipython",
    "version": 3
   },
   "file_extension": ".py",
   "mimetype": "text/x-python",
   "name": "python",
   "nbconvert_exporter": "python",
   "pygments_lexer": "ipython3",
   "version": "3.10.0"
  },
  "orig_nbformat": 4
 },
 "nbformat": 4,
 "nbformat_minor": 2
}
